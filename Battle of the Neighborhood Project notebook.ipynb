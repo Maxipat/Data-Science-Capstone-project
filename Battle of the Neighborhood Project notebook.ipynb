{
    "cells": [
        {
            "cell_type": "markdown",
            "metadata": {
                "collapsed": true
            },
            "source": "# The Battle of the Neighborhood"
        },
        {
            "cell_type": "markdown",
            "metadata": {},
            "source": "### Introduction/Business problem"
        },
        {
            "cell_type": "markdown",
            "metadata": {},
            "source": "\n #####  Canada is believed or known to be the land of so many opportunities, which accomodates a variety of people from different ethnic backgrounds specifically to the core city of Canada, Toronto. Toronto, which is one of the most densely populated areas in Canada has an estimated population of   6,197,000 as at 2020. This population grew by 0.94% from 2019. Being the largest city in Canada, there is no doubt about the diversity of the population. Multiculturalism is a major stronghold which is seen through the various neighbourhoods including; Bloordale Village, Dovercourt, Little India, Kensington Market, Little Italy, Koreatown and many more. Downtown Toronto being the hub of interactions between ethnicities brings many opportunities for entrepreneurs or Business people to start or grow their business. It is a place where people can have a \"feel\" of each culture, either while they work or just passing through. Toronto is well known for its Entertainment industry.\n\n##### The objective of this project is to use regional clustering of venue information and Foursquare location data to determine what might be the \u2018best\u2019 neighbourhood in Toronto to open a Theatre. The sound and music are 50% of the entertainment in a movie. Tourists flock to the city to laugh, cry and toe-tap along to the sounds and sights of the big stage, thus there are numerous opportunities to open a new theatre. Through this project, we will find the most suitable location for an entrepreneur to open a new Theatre in Toronto, Canada."
        },
        {
            "cell_type": "markdown",
            "metadata": {},
            "source": "## Target Audience\n\n#### This project is aimed towards Entrepreneurs or Business owners who want to open a new Theatre or grow their current business. The analysis will provide vital information that can be used by the target audience"
        },
        {
            "cell_type": "code",
            "execution_count": null,
            "metadata": {},
            "outputs": [],
            "source": ""
        }
    ],
    "metadata": {
        "kernelspec": {
            "display_name": "Python 3.7",
            "language": "python",
            "name": "python3"
        },
        "language_info": {
            "codemirror_mode": {
                "name": "ipython",
                "version": 3
            },
            "file_extension": ".py",
            "mimetype": "text/x-python",
            "name": "python",
            "nbconvert_exporter": "python",
            "pygments_lexer": "ipython3",
            "version": "3.7.9"
        }
    },
    "nbformat": 4,
    "nbformat_minor": 1
}