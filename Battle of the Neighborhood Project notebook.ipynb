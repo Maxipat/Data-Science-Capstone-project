{
    "cells": [
        {
            "cell_type": "markdown",
            "metadata": {
                "collapsed": true
            },
            "source": "# The Battle of the Neighborhood"
        },
        {
            "cell_type": "markdown",
            "metadata": {},
            "source": "### Introduction/Business problem"
        },
        {
            "cell_type": "markdown",
            "metadata": {},
            "source": "\n #####  Canada is believed or known to be the land of so many opportunities, which accomodates a variety of people from different ethnic backgrounds specifically to the core city of Canada, Toronto. Toronto, which is one of the most densely populated areas in Canada has an estimated population of   6,197,000 as at 2020. This population grew by 0.94% from 2019. Being the largest city in Canada, there is no doubt about the diversity of the population. Multiculturalism is a major stronghold which is seen through the various neighbourhoods including; Bloordale Village, Dovercourt, Little India, Kensington Market, Little Italy, Koreatown and many more. Downtown Toronto being the hub of interactions between ethnicities brings many opportunities for entrepreneurs or Business people to start or grow their business. It is a place where people can have a \"feel\" of each culture, either while they work or just passing through. Toronto is well known for its Entertainment industry.\n\n##### The objective of this project is to use regional clustering of venue information and Foursquare location data to determine what might be the \u2018best\u2019 neighbourhood in Toronto to open a Theatre. The sound and music are 50% of the entertainment in a movie. Tourists flock to the city to laugh, cry and toe-tap along to the sounds and sights of the big stage, thus there are numerous opportunities to open a new theatre. Through this project, we will find the most suitable location for an entrepreneur to open a new Theatre in Toronto, Canada."
        },
        {
            "cell_type": "markdown",
            "metadata": {},
            "source": "## Target Audience\n\n#### This project is aimed towards Entrepreneurs or Business owners who want to open a new Theatre or grow their current business. The analysis will provide vital information that can be used by the target audience"
        },
        {
            "cell_type": "markdown",
            "metadata": {},
            "source": "## Description of the data to be used (Data Overview)\n\n#### The data that will be required and used will be a combination of CSV files that have been prepared for the purposes of the analysis from multiple sources which will provide a data frame of neighbourhoods in Toronto (via Wikipedia), the Geographical location of the neighbourhoods (via Geocoder package) and Venue data pertaining to Theatres (via Foursquare). The Venue data will help find which neighbourhood is best suitable to open a Theatre.\n\n#### The Wikipedia site provides all the information about the neighbourhoods. It included the postal code, borough and the name of the neighbourhoods present in Toronto. This data was scraped  from this wikipedia site and cleaned for the sole purpose of analysis. To create the above dataframe:\n#### The dataframe only consist of three columns: PostalCode, Borough, and Neighborhood. Some of the cells in the Borough and Neighborhood Columns were not assigned. Therefore, only the cells that have an assigned borough was processed.  Also, cells with a borough that is Not assigned were ignored. More than one neighborhood can exist in one postal code area. For example, in the table on the Wikipedia page, M5A is listed twice and has two neighborhoods: Harbourfront and Regent Park. These two rows were combined into one row with the neighborhoods separated with a comma. If a cell has a borough but a Not assigned neighborhood, then the neighborhood will be the same as the borough.\n\n#### The second source of data provided us with the Geographical coordinates of the neighbourhoods with the respective Postal Codes. The file was already in CSV format, so  all we had to do was to merge the data frame to the data frame containing the the Postal code, Borough and Neighborhood.\n\n#### Foursquare API was utilized to get the venue data pertaining to Theatres which was cleaned and later merged to the data frame containing the Borough, Postal Code, Neighborhood and the geographical location of the various Neighborhood in Toronto."
        },
        {
            "cell_type": "code",
            "execution_count": null,
            "metadata": {},
            "outputs": [],
            "source": ""
        },
        {
            "cell_type": "code",
            "execution_count": null,
            "metadata": {},
            "outputs": [],
            "source": ""
        }
    ],
    "metadata": {
        "kernelspec": {
            "display_name": "Python 3.7",
            "language": "python",
            "name": "python3"
        },
        "language_info": {
            "codemirror_mode": {
                "name": "ipython",
                "version": 3
            },
            "file_extension": ".py",
            "mimetype": "text/x-python",
            "name": "python",
            "nbconvert_exporter": "python",
            "pygments_lexer": "ipython3",
            "version": "3.7.9"
        }
    },
    "nbformat": 4,
    "nbformat_minor": 1
}